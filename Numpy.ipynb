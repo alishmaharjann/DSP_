{
 "cells": [
  {
   "cell_type": "code",
   "execution_count": 1,
   "id": "662e2e00",
   "metadata": {},
   "outputs": [],
   "source": [
    "import numpy as np"
   ]
  },
  {
   "cell_type": "code",
   "execution_count": 2,
   "id": "3927e493",
   "metadata": {},
   "outputs": [
    {
     "name": "stdout",
     "output_type": "stream",
     "text": [
      "<class 'list'>\n"
     ]
    },
    {
     "data": {
      "text/plain": [
       "array([3., 4., 5., 6.])"
      ]
     },
     "execution_count": 2,
     "metadata": {},
     "output_type": "execute_result"
    }
   ],
   "source": [
    "list2 = [3,4,5,6]\n",
    "print (type(list2))\n",
    "arr2 = np.array(list2,dtype= float)\n",
    "type (arr2)\n",
    "arr2"
   ]
  },
  {
   "cell_type": "code",
   "execution_count": 3,
   "id": "e8ef6e76",
   "metadata": {},
   "outputs": [
    {
     "data": {
      "text/plain": [
       "array([ 6.,  8., 10., 12.])"
      ]
     },
     "execution_count": 3,
     "metadata": {},
     "output_type": "execute_result"
    }
   ],
   "source": [
    "arr2 *= 2\n",
    "arr2"
   ]
  },
  {
   "cell_type": "code",
   "execution_count": 6,
   "id": "8da772fe",
   "metadata": {},
   "outputs": [
    {
     "data": {
      "text/plain": [
       "5"
      ]
     },
     "execution_count": 6,
     "metadata": {},
     "output_type": "execute_result"
    }
   ],
   "source": [
    "arr3 = 3\n",
    "arr3 = arr3+2\n",
    "arr3"
   ]
  },
  {
   "cell_type": "code",
   "execution_count": 8,
   "id": "d384feb7",
   "metadata": {},
   "outputs": [
    {
     "data": {
      "text/plain": [
       "numpy.ndarray"
      ]
     },
     "execution_count": 8,
     "metadata": {},
     "output_type": "execute_result"
    }
   ],
   "source": [
    "type (arr2)"
   ]
  },
  {
   "cell_type": "code",
   "execution_count": 9,
   "id": "d58f4d8a",
   "metadata": {},
   "outputs": [
    {
     "data": {
      "text/plain": [
       "array(['6', '8', '10', '12'], dtype='<U11')"
      ]
     },
     "execution_count": 9,
     "metadata": {},
     "output_type": "execute_result"
    }
   ],
   "source": [
    "arr3_s = arr2.astype('int').astype('str')\n",
    "arr3_s"
   ]
  },
  {
   "cell_type": "code",
   "execution_count": 10,
   "id": "0991cf01",
   "metadata": {},
   "outputs": [
    {
     "name": "stdout",
     "output_type": "stream",
     "text": [
      "[1 'a']\n"
     ]
    },
    {
     "data": {
      "text/plain": [
       "numpy.ndarray"
      ]
     },
     "execution_count": 10,
     "metadata": {},
     "output_type": "execute_result"
    }
   ],
   "source": [
    "arr_obj = np.array([1,'a'],dtype= 'object')\n",
    "print  (arr_obj )\n",
    "type(arr_obj)"
   ]
  },
  {
   "cell_type": "code",
   "execution_count": 11,
   "id": "6de87df1",
   "metadata": {},
   "outputs": [
    {
     "data": {
      "text/plain": [
       "list"
      ]
     },
     "execution_count": 11,
     "metadata": {},
     "output_type": "execute_result"
    }
   ],
   "source": [
    "arr_list = arr_obj.tolist()\n",
    "type(arr_list)"
   ]
  },
  {
   "cell_type": "code",
   "execution_count": 12,
   "id": "537c8912",
   "metadata": {},
   "outputs": [
    {
     "name": "stdout",
     "output_type": "stream",
     "text": [
      "[[1 2 3]\n",
      " [4 5 6]\n",
      " [7 8 9]\n",
      " [3 5 8]]\n"
     ]
    }
   ],
   "source": [
    "list3 = [[1,2,3],[4,5,6],[7,8,9],[3,5,8]]\n",
    "arr3 = np.array(list3)\n",
    "print (arr3)"
   ]
  },
  {
   "cell_type": "code",
   "execution_count": 13,
   "id": "ea1ffbd0",
   "metadata": {},
   "outputs": [
    {
     "data": {
      "text/plain": [
       "(4, 3)"
      ]
     },
     "execution_count": 13,
     "metadata": {},
     "output_type": "execute_result"
    }
   ],
   "source": [
    "arr3.shape"
   ]
  },
  {
   "cell_type": "code",
   "execution_count": 14,
   "id": "e6aeb1e6",
   "metadata": {},
   "outputs": [
    {
     "data": {
      "text/plain": [
       "numpy.ndarray"
      ]
     },
     "execution_count": 14,
     "metadata": {},
     "output_type": "execute_result"
    }
   ],
   "source": [
    "arr3.dtype\n",
    "type(arr3)"
   ]
  },
  {
   "cell_type": "code",
   "execution_count": 15,
   "id": "cf8b6329",
   "metadata": {},
   "outputs": [
    {
     "data": {
      "text/plain": [
       "3.4"
      ]
     },
     "execution_count": 15,
     "metadata": {},
     "output_type": "execute_result"
    }
   ],
   "source": [
    "list22= [5,6,6,11,-3,-3,-1,2,3,8]\n",
    "list_arr= np.array(list22)\n",
    "M = list_arr.mean()\n",
    "M"
   ]
  },
  {
   "cell_type": "code",
   "execution_count": 16,
   "id": "638ec568",
   "metadata": {},
   "outputs": [
    {
     "data": {
      "text/plain": [
       "4.454211490264018"
      ]
     },
     "execution_count": 16,
     "metadata": {},
     "output_type": "execute_result"
    }
   ],
   "source": [
    "SD = list_arr.std()\n",
    "SD"
   ]
  },
  {
   "cell_type": "code",
   "execution_count": 17,
   "id": "0c49a068",
   "metadata": {},
   "outputs": [
    {
     "name": "stdout",
     "output_type": "stream",
     "text": [
      "[1 2 3]\n"
     ]
    }
   ],
   "source": [
    "a = np.array([1,2,3], dtype='int32')\n",
    "print(a)"
   ]
  },
  {
   "cell_type": "code",
   "execution_count": 18,
   "id": "d91e194f",
   "metadata": {},
   "outputs": [
    {
     "name": "stdout",
     "output_type": "stream",
     "text": [
      "[[9. 8. 7.]\n",
      " [6. 5. 4.]]\n"
     ]
    }
   ],
   "source": [
    "b = np.array([[9.0,8.0,7.0],[6.0,5.0,4.0]])  # a list within a list\n",
    "print(b)"
   ]
  },
  {
   "cell_type": "code",
   "execution_count": 19,
   "id": "1306ed5d",
   "metadata": {},
   "outputs": [
    {
     "data": {
      "text/plain": [
       "3"
      ]
     },
     "execution_count": 19,
     "metadata": {},
     "output_type": "execute_result"
    }
   ],
   "source": [
    "# Get Shape\n",
    "b.shape\n",
    "# Get Type\n",
    "a.dtype\n",
    "# Get number of elements\n",
    "a.size"
   ]
  },
  {
   "cell_type": "code",
   "execution_count": 20,
   "id": "a554149d",
   "metadata": {},
   "outputs": [
    {
     "name": "stdout",
     "output_type": "stream",
     "text": [
      "[[ 1  2  3  4  5  6  7]\n",
      " [ 8  9 10 11 12 13 14]]\n"
     ]
    }
   ],
   "source": [
    "a = np.array([[1,2,3,4,5,6,7],[8,9,10,11,12,13,14]])\n",
    "print(a)"
   ]
  },
  {
   "cell_type": "code",
   "execution_count": 21,
   "id": "5dfb4454",
   "metadata": {},
   "outputs": [
    {
     "data": {
      "text/plain": [
       "13"
      ]
     },
     "execution_count": 21,
     "metadata": {},
     "output_type": "execute_result"
    }
   ],
   "source": [
    "# Get a specific element [r, c]\n",
    "a[1, 5]"
   ]
  },
  {
   "cell_type": "code",
   "execution_count": 22,
   "id": "f4a13d94",
   "metadata": {},
   "outputs": [
    {
     "data": {
      "text/plain": [
       "array([1, 2, 3, 4, 5, 6, 7])"
      ]
     },
     "execution_count": 22,
     "metadata": {},
     "output_type": "execute_result"
    }
   ],
   "source": [
    "# Get a specific row \n",
    "a[0, :]"
   ]
  },
  {
   "cell_type": "code",
   "execution_count": 23,
   "id": "02d6f9c9",
   "metadata": {},
   "outputs": [
    {
     "data": {
      "text/plain": [
       "array([ 3, 10])"
      ]
     },
     "execution_count": 23,
     "metadata": {},
     "output_type": "execute_result"
    }
   ],
   "source": [
    "# Get a specific column\n",
    "a[:, 2]"
   ]
  },
  {
   "cell_type": "code",
   "execution_count": 24,
   "id": "ab88a98b",
   "metadata": {},
   "outputs": [
    {
     "data": {
      "text/plain": [
       "array([[ 6,  2,  4],\n",
       "       [ 4,  2,  3],\n",
       "       [ 2, -4,  3]])"
      ]
     },
     "execution_count": 24,
     "metadata": {},
     "output_type": "execute_result"
    }
   ],
   "source": [
    "# Random Integer values\n",
    "np.random.randint(-4,8, size=(3,3))"
   ]
  },
  {
   "cell_type": "code",
   "execution_count": 25,
   "id": "b32e730d",
   "metadata": {},
   "outputs": [
    {
     "name": "stdout",
     "output_type": "stream",
     "text": [
      "[1 2 3 4]\n"
     ]
    }
   ],
   "source": [
    "# mathematics\n",
    "a = np.array([1,2,3,4])\n",
    "print(a)"
   ]
  },
  {
   "cell_type": "code",
   "execution_count": 27,
   "id": "fcc1d320",
   "metadata": {},
   "outputs": [
    {
     "data": {
      "text/plain": [
       "array([0.5, 1. , 1.5, 2. ])"
      ]
     },
     "execution_count": 27,
     "metadata": {},
     "output_type": "execute_result"
    }
   ],
   "source": [
    "a + 2"
   ]
  },
  {
   "cell_type": "code",
   "execution_count": 28,
   "id": "61efa76d",
   "metadata": {},
   "outputs": [
    {
     "data": {
      "text/plain": [
       "array([-1,  0,  1,  2])"
      ]
     },
     "execution_count": 28,
     "metadata": {},
     "output_type": "execute_result"
    }
   ],
   "source": [
    "a - 2"
   ]
  },
  {
   "cell_type": "code",
   "execution_count": 29,
   "id": "d42b0232",
   "metadata": {},
   "outputs": [
    {
     "data": {
      "text/plain": [
       "array([2, 4, 6, 8])"
      ]
     },
     "execution_count": 29,
     "metadata": {},
     "output_type": "execute_result"
    }
   ],
   "source": [
    "a * 2"
   ]
  },
  {
   "cell_type": "code",
   "execution_count": 30,
   "id": "82cd2710",
   "metadata": {},
   "outputs": [
    {
     "data": {
      "text/plain": [
       "array([0.5, 1. , 1.5, 2. ])"
      ]
     },
     "execution_count": 30,
     "metadata": {},
     "output_type": "execute_result"
    }
   ],
   "source": [
    "a / 2"
   ]
  },
  {
   "cell_type": "code",
   "execution_count": 31,
   "id": "12e61dac",
   "metadata": {},
   "outputs": [
    {
     "data": {
      "text/plain": [
       "array([2, 2, 4, 4])"
      ]
     },
     "execution_count": 31,
     "metadata": {},
     "output_type": "execute_result"
    }
   ],
   "source": [
    "b = np.array([1,0,1,0])\n",
    "a + b"
   ]
  },
  {
   "cell_type": "code",
   "execution_count": 32,
   "id": "0f20408c",
   "metadata": {},
   "outputs": [
    {
     "data": {
      "text/plain": [
       "array([ 1,  4,  9, 16])"
      ]
     },
     "execution_count": 32,
     "metadata": {},
     "output_type": "execute_result"
    }
   ],
   "source": [
    "a ** 2"
   ]
  },
  {
   "cell_type": "code",
   "execution_count": 33,
   "id": "28fe69ed",
   "metadata": {},
   "outputs": [
    {
     "name": "stdout",
     "output_type": "stream",
     "text": [
      "[1, 2, 3, 4, 5] <class 'list'>\n",
      "(array([1., 2., 3., 4., 5.]), <class 'numpy.ndarray'>, dtype('float64'))\n",
      "[0 1 2 3 4 5 6 7 8]\n",
      "[1 2 3 4 5 6 7 8 9]\n",
      "[1. 4. 7.]\n",
      "[1. 2. 3. 4. 5.]\n",
      "4.0\n",
      "4.0\n",
      "[2. 3. 4.]\n",
      "[2. 3. 4. 5.]\n"
     ]
    }
   ],
   "source": [
    "#Creating and accessing numpy array\n",
    "l = [1, 2, 3, 4, 5]\n",
    "print((l), type(l))\n",
    "# 1D Array\n",
    "# a = np.array([1, 2, 3, 4, 5])\n",
    "# Creation dtype is optional\n",
    "a = np.array(l, dtype='float64')\n",
    "print((a, type(a), a.dtype))\n",
    "\n",
    "# using arange\n",
    "a2 = np.arange(9)\n",
    "a3 = np.arange(1,10)\n",
    "a4 = np.arange(1,10,3, dtype='float')\n",
    "print(a2)\n",
    "print(a3)\n",
    "print(a4)\n",
    "\n",
    "# Getting elements and slicing\n",
    "print(a)\n",
    "print(a[-2])\n",
    "print(a[3])\n",
    "print(a[1:-1])\n",
    "print(a[1:5])\n"
   ]
  },
  {
   "cell_type": "code",
   "execution_count": 34,
   "id": "972703bb",
   "metadata": {},
   "outputs": [
    {
     "name": "stdout",
     "output_type": "stream",
     "text": [
      "[[1 2 3]\n",
      " [4 5 6]\n",
      " [7 8 9]]\n",
      "5\n",
      "6\n",
      "[11 12 13 14 15 16 17 18 19]\n",
      "[[11 12 13]\n",
      " [14 15 16]\n",
      " [17 18 19]]\n",
      "[[11 12 13]\n",
      " [14 15 16]\n",
      " [17 18 19]\n",
      " [20 21 22]]\n"
     ]
    }
   ],
   "source": [
    "# Multi Dimentional Array Creation and selection\n",
    "a = np.array([[1, 2, 3], [4, 5, 6], [7, 8, 9]])\n",
    "print(a)\n",
    "print(a[1,1])\n",
    "print(a[1,2])\n",
    "\n",
    "b = np.arange(11,20)\n",
    "print(b)\n",
    "b = b.reshape((3,3))\n",
    "print(b)\n",
    "c = np.arange(11,23).reshape((4,3))\n",
    "print(c)\n"
   ]
  },
  {
   "cell_type": "code",
   "execution_count": 35,
   "id": "74e51aa0",
   "metadata": {},
   "outputs": [
    {
     "name": "stdout",
     "output_type": "stream",
     "text": [
      "[[11 12 13]\n",
      " [14 15 16]\n",
      " [17 18 19]\n",
      " [20 21 22]]\n",
      "[[15 16]\n",
      " [18 19]]\n",
      "18\n"
     ]
    }
   ],
   "source": [
    "# Slicing\n",
    "print(c)\n",
    "print(c[1:3,1:])\n",
    "print(c[2,1])\n",
    "\n",
    "# Explore slicing with -"
   ]
  },
  {
   "cell_type": "code",
   "execution_count": 36,
   "id": "1d80f95d",
   "metadata": {},
   "outputs": [
    {
     "name": "stdout",
     "output_type": "stream",
     "text": [
      "[[0. 0. 0. 0.]\n",
      " [0. 0. 0. 0.]\n",
      " [0. 0. 0. 0.]\n",
      " [0. 0. 0. 0.]\n",
      " [0. 0. 0. 0.]]\n",
      "[[1. 1. 1. 1.]\n",
      " [1. 1. 1. 1.]\n",
      " [1. 1. 1. 1.]]\n",
      "[[68 84 65 21 30 14]\n",
      " [51 87 96 19 99 88]\n",
      " [88 60 98 67 21 28]\n",
      " [85  2 41 58 74 95]\n",
      " [45  4 14  7 35 55]\n",
      " [11 50 63 49  7 64]]\n"
     ]
    }
   ],
   "source": [
    "# array of zeros or ones and random integer with certain dimention\n",
    "# Zeros\n",
    "z = np.zeros((5,4))\n",
    "print(z)\n",
    "# Ones\n",
    "o = np.ones((3,4))\n",
    "print(o)\n",
    "# Random\n",
    "r = np.random.randint(1,100, (6,6))\n",
    "print(r)"
   ]
  },
  {
   "cell_type": "code",
   "execution_count": 37,
   "id": "2b20515e",
   "metadata": {},
   "outputs": [
    {
     "name": "stdout",
     "output_type": "stream",
     "text": [
      "[[68 84 65 21 30 14]\n",
      " [51 87 96 19 99 88]\n",
      " [88 60 98 67 21 28]\n",
      " [85  2 41 58 74 95]\n",
      " [45  4 14  7 35 55]\n",
      " [11 50 63 49  7 64]]\n",
      "[68 84 65 21 30 14 51 87 96 19 99 88 88 60 98 67 21 28 85  2 41 58 74 95\n",
      " 45  4 14  7 35 55 11 50 63 49  7 64]\n"
     ]
    }
   ],
   "source": [
    "# Flattening multi d array to 1 d array using flatten\n",
    "print(r)\n",
    "print(r.flatten())\n"
   ]
  },
  {
   "cell_type": "code",
   "execution_count": 38,
   "id": "eb803928",
   "metadata": {},
   "outputs": [
    {
     "name": "stdout",
     "output_type": "stream",
     "text": [
      "[[10 11]\n",
      " [12 13]\n",
      " [14 15]\n",
      " [16 17]\n",
      " [18 19]]\n",
      "[[10 12 14 16 18]\n",
      " [11 13 15 17 19]]\n"
     ]
    }
   ],
   "source": [
    "# Transpose row to col and vice versa using transpose\n",
    "na = np.arange(10,20).reshape(5,2)\n",
    "print(na)\n",
    "na_transposed = na.transpose()\n",
    "print(na_transposed)"
   ]
  },
  {
   "cell_type": "code",
   "execution_count": 39,
   "id": "e1c7929a",
   "metadata": {},
   "outputs": [
    {
     "name": "stdout",
     "output_type": "stream",
     "text": [
      "[[10 11]\n",
      " [12 13]\n",
      " [14 15]\n",
      " [16 17]\n",
      " [18 19]]\n",
      "<class 'numpy.ndarray'>\n",
      "int32\n",
      "2\n",
      "(5, 2)\n",
      "10\n"
     ]
    }
   ],
   "source": [
    "#basic funcationalities\n",
    "# type(), dtype, ndim, shape, size, \n",
    "print(na)\n",
    "print(type(na))\n",
    "print(na.dtype)\n",
    "print(na.ndim)\n",
    "print(na.shape)\n",
    "print(na.size)"
   ]
  },
  {
   "cell_type": "code",
   "execution_count": 40,
   "id": "edff4b33",
   "metadata": {},
   "outputs": [
    {
     "name": "stdout",
     "output_type": "stream",
     "text": [
      "[[10 11]\n",
      " [12 13]\n",
      " [14 15]\n",
      " [16 17]\n",
      " [18 19]]\n",
      "[[12 13]\n",
      " [14 15]\n",
      " [16 17]\n",
      " [18 19]\n",
      " [20 21]]\n",
      "[[100 121]\n",
      " [144 169]\n",
      " [196 225]\n",
      " [256 289]\n",
      " [324 361]]\n",
      "[[0 1]\n",
      " [0 1]\n",
      " [0 1]\n",
      " [0 1]\n",
      " [0 1]]\n",
      "[[5 5]\n",
      " [6 6]\n",
      " [7 7]\n",
      " [8 8]\n",
      " [9 9]]\n",
      "[[5.  5.5]\n",
      " [6.  6.5]\n",
      " [7.  7.5]\n",
      " [8.  8.5]\n",
      " [9.  9.5]]\n"
     ]
    }
   ],
   "source": [
    "# Calculation with given number\n",
    "print(na)\n",
    "print(na+2)\n",
    "print(na**2)\n",
    "print(na%2)\n",
    "print(na//2)\n",
    "print(na/2)"
   ]
  },
  {
   "cell_type": "code",
   "execution_count": 41,
   "id": "4d57a453",
   "metadata": {},
   "outputs": [
    {
     "name": "stdout",
     "output_type": "stream",
     "text": [
      "[[10 11]\n",
      " [12 13]\n",
      " [14 15]\n",
      " [16 17]\n",
      " [18 19]]\n",
      "[[12 13]\n",
      " [14 15]\n",
      " [16 17]\n",
      " [18 19]\n",
      " [20 21]]\n",
      "[[2 2]\n",
      " [2 2]\n",
      " [2 2]\n",
      " [2 2]\n",
      " [2 2]]\n",
      "[[1.2        1.18181818]\n",
      " [1.16666667 1.15384615]\n",
      " [1.14285714 1.13333333]\n",
      " [1.125      1.11764706]\n",
      " [1.11111111 1.10526316]]\n",
      "[[22 24]\n",
      " [26 28]\n",
      " [30 32]\n",
      " [34 36]\n",
      " [38 40]]\n",
      "[[120 143]\n",
      " [168 195]\n",
      " [224 255]\n",
      " [288 323]\n",
      " [360 399]]\n",
      "[[1787822080 1159031605]\n",
      " [ 344068096 -642346289]\n",
      " [         0 2116147697]\n",
      " [1048641536 1046123219]\n",
      " [         0  547383789]]\n"
     ]
    }
   ],
   "source": [
    "# Calculation with two different arrays\n",
    "a1 = na\n",
    "a2 = na+2\n",
    "print(a1)\n",
    "print(a2)\n",
    "print(a2-a1)\n",
    "print(a2/a1)\n",
    "print(a2+a1)\n",
    "print(a2*a1)\n",
    "print(a2**a1)"
   ]
  },
  {
   "cell_type": "code",
   "execution_count": 42,
   "id": "431007d8",
   "metadata": {},
   "outputs": [
    {
     "name": "stdout",
     "output_type": "stream",
     "text": [
      "(array([1, 2, 3, 4, 5]), dtype('int32'))\n",
      "(array([1., 2., 3., 4., 5.]), dtype('float64'))\n",
      "(array(['1', '2', '3', '4', '5'], dtype='<U11'), dtype('<U11'))\n",
      "(array([1, 2, 3, 4, 5], dtype=object), dtype('O'))\n"
     ]
    }
   ],
   "source": [
    "#type casting\n",
    "# crete int array\n",
    "a = np.arange(1,6)\n",
    "print((a, a.dtype))\n",
    "# convert to float\n",
    "af = a.astype('float64')\n",
    "print((af, af.dtype))\n",
    "\n",
    "# convert to string\n",
    "a_s = a.astype('str')\n",
    "print((a_s, a_s.dtype))\n",
    "# convert to object\n",
    "a_o = a.astype('object')\n",
    "print((a_o, a_o.dtype))"
   ]
  },
  {
   "cell_type": "code",
   "execution_count": 43,
   "id": "f86d35e8",
   "metadata": {},
   "outputs": [
    {
     "name": "stdout",
     "output_type": "stream",
     "text": [
      "([3, 4, 5, 6], <class 'list'>)\n",
      "(array([3, 4, 5, 6]), <class 'numpy.ndarray'>)\n",
      "([3, 4, 5, 6], <class 'list'>)\n"
     ]
    }
   ],
   "source": [
    "#convert from list to array\n",
    "# Create list\n",
    "l = [3, 4, 5, 6]\n",
    "print((l, type(l)))\n",
    "# list to np array\n",
    "a = np.array(l)\n",
    "print((a, type(a)))\n",
    "# np array to list\n",
    "l1 = a.tolist()\n",
    "print((l, type(l1)))"
   ]
  },
  {
   "cell_type": "code",
   "execution_count": 44,
   "id": "32eea7d7",
   "metadata": {},
   "outputs": [
    {
     "name": "stdout",
     "output_type": "stream",
     "text": [
      "[3 4 5 6]\n",
      "3\n",
      "6\n",
      "4.5\n",
      "1.118033988749895\n"
     ]
    }
   ],
   "source": [
    "# statical methods\n",
    "# min, max, mean, std\n",
    "print(a)\n",
    "print(a.min())\n",
    "print(a.max())\n",
    "print(a.mean())\n",
    "print(a.std())"
   ]
  }
 ],
 "metadata": {
  "kernelspec": {
   "display_name": "Python 3 (ipykernel)",
   "language": "python",
   "name": "python3"
  },
  "language_info": {
   "codemirror_mode": {
    "name": "ipython",
    "version": 3
   },
   "file_extension": ".py",
   "mimetype": "text/x-python",
   "name": "python",
   "nbconvert_exporter": "python",
   "pygments_lexer": "ipython3",
   "version": "3.11.5"
  }
 },
 "nbformat": 4,
 "nbformat_minor": 5
}
