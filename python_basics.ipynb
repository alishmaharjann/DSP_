{
 "cells": [
  {
   "cell_type": "code",
   "execution_count": 36,
   "id": "7a3eb858",
   "metadata": {},
   "outputs": [
    {
     "name": "stdout",
     "output_type": "stream",
     "text": [
      "My name is Alish Maharjan\n",
      "1\n",
      "2.3\n",
      "True\n",
      "(True, False)\n"
     ]
    }
   ],
   "source": [
    "print(\"My name is Alish Maharjan\")\n",
    "print(1)\n",
    "print(2.3)\n",
    "print(True)\n",
    "print((True, False))"
   ]
  },
  {
   "cell_type": "code",
   "execution_count": 37,
   "id": "36f88cef",
   "metadata": {},
   "outputs": [
    {
     "name": "stdout",
     "output_type": "stream",
     "text": [
      "25\n",
      "1\n",
      "156\n",
      "2.0\n",
      "27\n",
      "1\n",
      "2\n"
     ]
    }
   ],
   "source": [
    "print(12 + 13)\n",
    "print(13-12)\n",
    "\n",
    "print(12*13)\n",
    "print(24/12)\n",
    "\n",
    "print(3**3)\n",
    "\n",
    "print(5%2) # Remainder\n",
    "print(5//2) # Quotent"
   ]
  },
  {
   "cell_type": "code",
   "execution_count": 38,
   "id": "b497375c",
   "metadata": {},
   "outputs": [
    {
     "name": "stdout",
     "output_type": "stream",
     "text": [
      "True\n",
      "False\n",
      "False\n",
      "False\n",
      "True\n",
      "True\n"
     ]
    }
   ],
   "source": [
    "# Comparison operator\n",
    "print(23==23) # equals to  \n",
    "print(23!=23) # not equals to \n",
    "\n",
    "print(23>23)\n",
    "print(23<23)\n",
    "\n",
    "print(23>=23)\n",
    "print(23<=23)"
   ]
  },
  {
   "cell_type": "code",
   "execution_count": 39,
   "id": "416cd4f8",
   "metadata": {},
   "outputs": [
    {
     "name": "stdout",
     "output_type": "stream",
     "text": [
      "(10, 20)\n",
      "(30, 10)\n",
      "60\n"
     ]
    }
   ],
   "source": [
    "# Assignment operators\n",
    "a = 10\n",
    "b = 20\n",
    "\n",
    "print((a, b))\n",
    "\n",
    "a += 20\n",
    "b -= 10\n",
    "\n",
    "print((a, b))\n",
    "\n",
    "a *= 2\n",
    "print(a)"
   ]
  },
  {
   "cell_type": "code",
   "execution_count": 40,
   "id": "d00e572b",
   "metadata": {},
   "outputs": [
    {
     "name": "stdout",
     "output_type": "stream",
     "text": [
      "False\n",
      "True\n",
      "False\n",
      "False\n"
     ]
    }
   ],
   "source": [
    "#logical operator\n",
    "print(True and False)\n",
    "print(True or False)\n",
    "print(not True)\n",
    "\n",
    "b = 16\n",
    "print(b>10 and b<15)\n",
    "\n",
    "if(b>10 and b<15):\n",
    "    print(True)"
   ]
  },
  {
   "cell_type": "code",
   "execution_count": 41,
   "id": "703c9e7d",
   "metadata": {},
   "outputs": [
    {
     "name": "stdout",
     "output_type": "stream",
     "text": [
      "False\n",
      "True\n",
      "True\n",
      "True\n"
     ]
    }
   ],
   "source": [
    "# bitwise operator\n",
    "# and = &, or= |\n",
    "print(True & False)\n",
    "print(True | False)\n",
    "# print(!(20 = 20))\n",
    "\n",
    "b = 16\n",
    "print(b>10 & b<15)\n",
    "\n",
    "if(b>10 & b<15):\n",
    "    print(True)"
   ]
  },
  {
   "cell_type": "code",
   "execution_count": 42,
   "id": "9017ca89",
   "metadata": {},
   "outputs": [
    {
     "name": "stdout",
     "output_type": "stream",
     "text": [
      "a <class 'str'>\n",
      "Rajesh Hamal <class 'str'>\n",
      "10 <class 'int'>\n",
      "23.4 <class 'float'>\n",
      "True <class 'bool'>\n"
     ]
    }
   ],
   "source": [
    "# string\n",
    "grade = 'a'\n",
    "name = \"Rajesh Hamal\"\n",
    "print(grade, type(grade))\n",
    "print(name, type(name))\n",
    "# integer\n",
    "a = 10\n",
    "print(a, type(a))\n",
    "# float\n",
    "b = 23.4\n",
    "print(b, type(b))\n",
    "# boolean\n",
    "workDone = True\n",
    "print(workDone, type(workDone))"
   ]
  },
  {
   "cell_type": "code",
   "execution_count": 43,
   "id": "64cd8832",
   "metadata": {},
   "outputs": [
    {
     "name": "stdout",
     "output_type": "stream",
     "text": [
      "([23, 45, 67, 89], <class 'list'>)\n",
      "<class 'tuple'>\n",
      "({'name': 'Rajesh Hamal', 'Age': 23, 'graduated': True}, <class 'dict'>)\n"
     ]
    }
   ],
   "source": [
    "# Collection data type\n",
    "# list, dictionary, tuple\n",
    "marks = [23, 45, 67, 89]\n",
    "toPrint = (marks, type(marks))\n",
    "print(toPrint)\n",
    "print(type(toPrint))\n",
    "\n",
    "\n",
    "student = {'name':'Rajesh Hamal', 'Age': 23, 'graduated': True}\n",
    "print((student, type(student)))"
   ]
  },
  {
   "cell_type": "code",
   "execution_count": 44,
   "id": "49ea96e3",
   "metadata": {},
   "outputs": [
    {
     "name": "stdout",
     "output_type": "stream",
     "text": [
      "30\n"
     ]
    }
   ],
   "source": [
    "#Arthmetic_Functions\n",
    "a = 10\n",
    "name = \"Ram\"\n",
    "phone = 9863033649\n",
    "b = 20\n",
    "print(a+b)"
   ]
  },
  {
   "cell_type": "code",
   "execution_count": 45,
   "id": "7d306c3f",
   "metadata": {},
   "outputs": [
    {
     "name": "stdout",
     "output_type": "stream",
     "text": [
      "('Ramesh', 34, 9847654564, 'ramesh@abc.com')\n"
     ]
    }
   ],
   "source": [
    "name, age, phone, email = \"Ramesh\", 34, 9847654564, \"ramesh@abc.com\"\n",
    "print((name, age, phone, email))"
   ]
  },
  {
   "cell_type": "code",
   "execution_count": 46,
   "id": "ad3b3ff4",
   "metadata": {},
   "outputs": [
    {
     "name": "stdout",
     "output_type": "stream",
     "text": [
      "('Graduated', 'Graduated', 'Graduated')\n"
     ]
    }
   ],
   "source": [
    "# student1qualification\n",
    "s1q = s2q = s3q = \"Graduated\"\n",
    "print((s1q, s2q, s3q))"
   ]
  },
  {
   "cell_type": "code",
   "execution_count": 47,
   "id": "0db861ba",
   "metadata": {},
   "outputs": [
    {
     "name": "stdout",
     "output_type": "stream",
     "text": [
      "Remainder is 5, Quotent is 1\n",
      "<class 'int'>\n",
      "(1.0, <class 'float'>)\n",
      "<class 'int'>\n",
      "75\n"
     ]
    }
   ],
   "source": [
    "a = 20\n",
    "b = 15\n",
    "\n",
    "remainder = a%b\n",
    "quotent = a//b\n",
    "\n",
    "print(f\"Remainder is {remainder}, Quotent is {a//b}\")\n",
    "\n",
    "print(type(quotent))\n",
    "\n",
    "float_quotent = float(quotent)\n",
    "print((float_quotent, type(float_quotent)))\n",
    "\n",
    "print(type(int(float_quotent)))\n",
    "\n",
    "marks1 = 75.2\n",
    "marks_rounded = round(marks1)\n",
    "print(marks_rounded)"
   ]
  },
  {
   "cell_type": "code",
   "execution_count": 48,
   "id": "6fc826bf",
   "metadata": {},
   "outputs": [
    {
     "name": "stdout",
     "output_type": "stream",
     "text": [
      "My name is Ram I am 23\n"
     ]
    }
   ],
   "source": [
    "# string concatination\n",
    "s1 = \"My name is Ram \"\n",
    "s2 = \"I am 23\"\n",
    "ram = s1 + s2\n",
    "print(ram)"
   ]
  },
  {
   "cell_type": "code",
   "execution_count": 49,
   "id": "c923c04c",
   "metadata": {},
   "outputs": [
    {
     "name": "stdout",
     "output_type": "stream",
     "text": [
      "My name is Ram, I am 23\n",
      "My name is Ram, I am 23\n",
      "My name is Ram, I am 23\n"
     ]
    }
   ],
   "source": [
    "name = \"Ram\"\n",
    "age = 23\n",
    "# F string\n",
    "print(f\"My name is {name}, I am {age}\")\n",
    "#Format function\n",
    "print(\"My name is {}, I am {}\".format(name, age))\n",
    "# % operator\n",
    "print(\"My name is %s, I am %d\" %(name,age))"
   ]
  },
  {
   "cell_type": "code",
   "execution_count": 50,
   "id": "61f8b350",
   "metadata": {},
   "outputs": [
    {
     "name": "stdout",
     "output_type": "stream",
     "text": [
      "My name is Ram, I am 23\n",
      "23\n",
      "('a', 'z')\n"
     ]
    }
   ],
   "source": [
    "# (len, min, max, str.index(\"a\"), str.find(\"a\"), str.count(\"a\"), .lower(), .upper(), .strip(\"a\"), .startswith(),  .replace(old, new), .split(\",\"), delim.join(list))\n",
    "ram = f\"My name is {name}, I am {age}\"\n",
    "print(ram)\n",
    "\n",
    "print(len(ram))\n",
    "print((min('abcdz'), max('abcdz')))"
   ]
  },
  {
   "cell_type": "code",
   "execution_count": 51,
   "id": "3e058861",
   "metadata": {},
   "outputs": [
    {
     "name": "stdout",
     "output_type": "stream",
     "text": [
      "My name is Ram, I am 23\n",
      "(4, 4)\n",
      "1\n",
      "('my name is ram, i am 23', 'MY NAME IS RAM, I AM 23')\n"
     ]
    }
   ],
   "source": [
    "# property functions\n",
    "print(ram)\n",
    "print((ram.index('a'), ram.find('a')))\n",
    "# Research about differences between find and index\n",
    "# Research about .strip(\"a\"), .startswith(),\n",
    "\n",
    "print(ram.count('R'))\n",
    "\n",
    "print((ram.lower(), ram.upper()))\n",
    "ram_upper = ram.upper()"
   ]
  },
  {
   "cell_type": "code",
   "execution_count": 52,
   "id": "94dff917",
   "metadata": {},
   "outputs": [
    {
     "name": "stdout",
     "output_type": "stream",
     "text": [
      "My name is Hari, I am 23\n",
      "['Ram', ' 24', ' student']\n"
     ]
    }
   ],
   "source": [
    "hari = ram.replace(\"Ram\", \"Hari\")\n",
    "print(hari)\n",
    "\n",
    "text = \"Ram, 24, student\"\n",
    "text_list = text.split(',')\n",
    "print(text_list)"
   ]
  },
  {
   "cell_type": "code",
   "execution_count": 53,
   "id": "980f672a",
   "metadata": {},
   "outputs": [
    {
     "name": "stdout",
     "output_type": "stream",
     "text": [
      "['My', 'name', 'is', 'Hari,', 'I', 'am', '23']\n",
      "My name is Hari, I am 23\n"
     ]
    }
   ],
   "source": [
    "hari_list = hari.split(' ')\n",
    "print(hari_list)\n",
    "\n",
    "joined_list = (\" \").join(hari_list)\n",
    "print(joined_list)\n",
    "# help('str.join')"
   ]
  },
  {
   "cell_type": "code",
   "execution_count": 54,
   "id": "22c37180",
   "metadata": {},
   "outputs": [
    {
     "name": "stdout",
     "output_type": "stream",
     "text": [
      "Both the numbers are equal\n"
     ]
    }
   ],
   "source": [
    "#Conditionals\n",
    "\n",
    "num1 = 300\n",
    "num2 = 300\n",
    "\n",
    "if(num1>num2):\n",
    "    print(f\"{num1} is greater\")\n",
    "elif(num1 == num2):\n",
    "    print(\"Both the numbers are equal\")\n",
    "else:\n",
    "    print(f\"{num2} is greater\")"
   ]
  },
  {
   "cell_type": "code",
   "execution_count": 55,
   "id": "2325396f",
   "metadata": {},
   "outputs": [
    {
     "name": "stdout",
     "output_type": "stream",
     "text": [
      "23\n",
      "34\n",
      "56\n",
      "65\n"
     ]
    }
   ],
   "source": [
    "#loops\n",
    "age = [23,34,56,65]\n",
    "for i in age:\n",
    "    print(i)"
   ]
  },
  {
   "cell_type": "code",
   "execution_count": 56,
   "id": "38d42dbd",
   "metadata": {},
   "outputs": [
    {
     "name": "stdout",
     "output_type": "stream",
     "text": [
      "1\n",
      "3\n",
      "5\n",
      "7\n",
      "9\n",
      "11\n",
      "13\n",
      "15\n",
      "17\n",
      "19\n",
      "21\n"
     ]
    }
   ],
   "source": [
    "for i in range(1,23, 2):\n",
    "    print(i)"
   ]
  },
  {
   "cell_type": "code",
   "execution_count": 57,
   "id": "7aa98e55",
   "metadata": {},
   "outputs": [
    {
     "name": "stdout",
     "output_type": "stream",
     "text": [
      "The \"if\" statement\n",
      "******************\n",
      "\n",
      "The \"if\" statement is used for conditional execution:\n",
      "\n",
      "   if_stmt ::= \"if\" assignment_expression \":\" suite\n",
      "               (\"elif\" assignment_expression \":\" suite)*\n",
      "               [\"else\" \":\" suite]\n",
      "\n",
      "It selects exactly one of the suites by evaluating the expressions one\n",
      "by one until one is found to be true (see section Boolean operations\n",
      "for the definition of true and false); then that suite is executed\n",
      "(and no other part of the \"if\" statement is executed or evaluated).\n",
      "If all expressions are false, the suite of the \"else\" clause, if\n",
      "present, is executed.\n",
      "\n",
      "Related help topics: TRUTHVALUE\n",
      "\n",
      "Help on built-in function len in module builtins:\n",
      "\n",
      "len(obj, /)\n",
      "    Return the number of items in a container.\n",
      "\n",
      "Help on built-in function max in module builtins:\n",
      "\n",
      "max(...)\n",
      "    max(iterable, *[, default=obj, key=func]) -> value\n",
      "    max(arg1, arg2, *args, *[, key=func]) -> value\n",
      "    \n",
      "    With a single iterable argument, return its biggest item. The\n",
      "    default keyword-only argument specifies an object to return if\n",
      "    the provided iterable is empty.\n",
      "    With two or more arguments, return the largest argument.\n",
      "\n",
      "Help on method_descriptor in str:\n",
      "\n",
      "str.upper = upper(self, /)\n",
      "    Return a copy of the string converted to uppercase.\n",
      "\n"
     ]
    }
   ],
   "source": [
    "help('if')\n",
    "help('len')\n",
    "help('max')\n",
    "help('str.upper')"
   ]
  },
  {
   "cell_type": "code",
   "execution_count": 7,
   "id": "cd23ab68",
   "metadata": {},
   "outputs": [
    {
     "name": "stdout",
     "output_type": "stream",
     "text": [
      "[1, 2, 3, 4] <class 'list'>\n",
      "[1. 2. 3. 4.] <class 'numpy.ndarray'> float64\n",
      "[0 1 2 3 4 5 6 7 8]\n",
      "[1 2 3 4 5 6 7 8 9]\n",
      "[1. 4. 7.]\n",
      "[2. 3.]\n",
      "4.0\n",
      "[[11 12 13]\n",
      " [14 15 16]\n",
      " [17 18 19]]\n",
      "[11 12 13 14 15 16 17 18]\n",
      "[[11 12 13 14]\n",
      " [15 16 17 18]]\n"
     ]
    }
   ],
   "source": [
    "#python list\n",
    "l = [1, 2, 3, 4]\n",
    "print((l), type(l))\n",
    "\n",
    "#into numpy array\n",
    "a = np.array(l, dtype='float64')\n",
    "print((a), type(a), a.dtype)\n",
    "\n",
    "#arange function\n",
    "a2 = np.arange(9)\n",
    "a3 = np.arange(1, 10)\n",
    "a4 = np.arange(1, 10, 3, dtype='float')\n",
    "print(a2)\n",
    "print(a3)\n",
    "print(a4)\n",
    "\n",
    "#slicing\n",
    "print(a[1:3])\n",
    "print(a[3])\n",
    "\n",
    "#multi-dimentional array\n",
    "a = np.array([[11,12,13], [14,15,16], [17,18,19]])\n",
    "print(a)\n",
    "\n",
    "b = np.arange(11,19)\n",
    "print(b)\n",
    "\n",
    "b = np.reshape(b, (2, 4)) \n",
    "print(b)\n",
    "\n",
    "#transposed\n",
    "#rows bata column ma change hunxa\n",
    "\n",
    "\n",
    "#basic functionalities\n",
    "\n"
   ]
  },
  {
   "cell_type": "code",
   "execution_count": 8,
   "id": "0a259374",
   "metadata": {},
   "outputs": [
    {
     "name": "stdout",
     "output_type": "stream",
     "text": [
      "(array([1, 2, 3, 4, 5]), dtype('int32'))\n",
      "(array([1., 2., 3., 4., 5.]), dtype('float64'))\n",
      "(array(['1', '2', '3', '4', '5'], dtype='<U11'), dtype('<U11'))\n",
      "(array([1, 2, 3, 4, 5], dtype=object), dtype('O'))\n"
     ]
    }
   ],
   "source": [
    "#type casting\n",
    "\n",
    "a = np.arange(1, 6)\n",
    "print((a, a.dtype))\n",
    "\n",
    "af = a.astype('float64')\n",
    "print((af, af.dtype))\n",
    "\n",
    "a_s = a.astype('str')\n",
    "print((a_s, a_s.dtype))\n",
    "\n",
    "a_o = a.astype('object')\n",
    "print((a_o, a_o.dtype))"
   ]
  },
  {
   "cell_type": "code",
   "execution_count": 9,
   "id": "4b1ae2f8",
   "metadata": {},
   "outputs": [
    {
     "name": "stdout",
     "output_type": "stream",
     "text": [
      "[1 2 3 4 5]\n",
      "1\n",
      "5\n",
      "3.0\n",
      "1.4142135623730951\n",
      "([1, 2, 3, 4], <class 'list'>)\n",
      "(array([1, 2, 3, 4]), <class 'numpy.ndarray'>)\n",
      "([1, 2, 3, 4], <class 'list'>)\n"
     ]
    }
   ],
   "source": [
    "#statical measures\n",
    "\n",
    "#min, max, mean, std\n",
    "print(a)\n",
    "print(a.min())\n",
    "print(a.max())\n",
    "print(a.mean())\n",
    "print(a.std()) \n",
    "\n",
    "#conversion\n",
    "l = [1, 2, 3, 4]\n",
    "print((l, type(l)))\n",
    "\n",
    "a = np.array(l)\n",
    "print((a, type(a)))\n",
    "\n",
    "li = a.tolist()\n",
    "print((li, type(li)))\n"
   ]
  },
  {
   "cell_type": "code",
   "execution_count": 11,
   "id": "87f99568",
   "metadata": {},
   "outputs": [],
   "source": [
    "d1 = {\n",
    "    'name' : ['Ram', 'Shyam', 'Sita', 'Gita', 'Hari'],\n",
    "    'marks' : [56.1, 67.12, 98, 45, 85],\n",
    "    'rollno' : [1, 3, 2, 5, 7]\n",
    "}"
   ]
  },
  {
   "cell_type": "code",
   "execution_count": 12,
   "id": "497e05c2",
   "metadata": {},
   "outputs": [
    {
     "name": "stdout",
     "output_type": "stream",
     "text": [
      "    name  marks  rollno\n",
      "0    Ram  56.10       1\n",
      "1  Shyam  67.12       3\n",
      "2   Sita  98.00       2\n",
      "3   Gita  45.00       5\n",
      "4   Hari  85.00       7\n"
     ]
    }
   ],
   "source": [
    "df = pd.DataFrame(d1)\n",
    "print(df)"
   ]
  },
  {
   "cell_type": "code",
   "execution_count": 13,
   "id": "8bb37a0e",
   "metadata": {},
   "outputs": [],
   "source": [
    "#export datafrome into csv\n",
    "df.to_csv('marks_data.csv', index=False)"
   ]
  },
  {
   "cell_type": "code",
   "execution_count": 14,
   "id": "698912d8",
   "metadata": {},
   "outputs": [
    {
     "name": "stdout",
     "output_type": "stream",
     "text": [
      "    name  marks  rollno\n",
      "0    Ram  56.10       1\n",
      "1  Shyam  67.12       3\n",
      "2   Sita  98.00       2\n",
      "3   Gita  45.00       5\n",
      "4   Hari  85.00       7\n"
     ]
    }
   ],
   "source": [
    "#importing from CSV\n",
    "student_df = pd.read_csv('marks_data.csv')\n",
    "print(student_df)"
   ]
  },
  {
   "cell_type": "code",
   "execution_count": 15,
   "id": "1217cc62",
   "metadata": {},
   "outputs": [
    {
     "name": "stdout",
     "output_type": "stream",
     "text": [
      "(5, 3)\n",
      "15\n"
     ]
    }
   ],
   "source": [
    "#basic functionalities \n",
    "\n",
    "print(student_df.shape)\n",
    "print(student_df.size)"
   ]
  },
  {
   "cell_type": "code",
   "execution_count": 16,
   "id": "0ad71ad4",
   "metadata": {},
   "outputs": [
    {
     "data": {
      "text/html": [
       "<div>\n",
       "<style scoped>\n",
       "    .dataframe tbody tr th:only-of-type {\n",
       "        vertical-align: middle;\n",
       "    }\n",
       "\n",
       "    .dataframe tbody tr th {\n",
       "        vertical-align: top;\n",
       "    }\n",
       "\n",
       "    .dataframe thead th {\n",
       "        text-align: right;\n",
       "    }\n",
       "</style>\n",
       "<table border=\"1\" class=\"dataframe\">\n",
       "  <thead>\n",
       "    <tr style=\"text-align: right;\">\n",
       "      <th></th>\n",
       "      <th>marks</th>\n",
       "      <th>rollno</th>\n",
       "    </tr>\n",
       "  </thead>\n",
       "  <tbody>\n",
       "    <tr>\n",
       "      <th>count</th>\n",
       "      <td>5.000000</td>\n",
       "      <td>5.000000</td>\n",
       "    </tr>\n",
       "    <tr>\n",
       "      <th>mean</th>\n",
       "      <td>70.244000</td>\n",
       "      <td>3.600000</td>\n",
       "    </tr>\n",
       "    <tr>\n",
       "      <th>std</th>\n",
       "      <td>21.419656</td>\n",
       "      <td>2.408319</td>\n",
       "    </tr>\n",
       "    <tr>\n",
       "      <th>min</th>\n",
       "      <td>45.000000</td>\n",
       "      <td>1.000000</td>\n",
       "    </tr>\n",
       "    <tr>\n",
       "      <th>25%</th>\n",
       "      <td>56.100000</td>\n",
       "      <td>2.000000</td>\n",
       "    </tr>\n",
       "    <tr>\n",
       "      <th>50%</th>\n",
       "      <td>67.120000</td>\n",
       "      <td>3.000000</td>\n",
       "    </tr>\n",
       "    <tr>\n",
       "      <th>75%</th>\n",
       "      <td>85.000000</td>\n",
       "      <td>5.000000</td>\n",
       "    </tr>\n",
       "    <tr>\n",
       "      <th>max</th>\n",
       "      <td>98.000000</td>\n",
       "      <td>7.000000</td>\n",
       "    </tr>\n",
       "  </tbody>\n",
       "</table>\n",
       "</div>"
      ],
      "text/plain": [
       "           marks    rollno\n",
       "count   5.000000  5.000000\n",
       "mean   70.244000  3.600000\n",
       "std    21.419656  2.408319\n",
       "min    45.000000  1.000000\n",
       "25%    56.100000  2.000000\n",
       "50%    67.120000  3.000000\n",
       "75%    85.000000  5.000000\n",
       "max    98.000000  7.000000"
      ]
     },
     "execution_count": 16,
     "metadata": {},
     "output_type": "execute_result"
    }
   ],
   "source": [
    "#summary statistics haru dinxa\n",
    "student_df.describe()"
   ]
  },
  {
   "cell_type": "code",
   "execution_count": 17,
   "id": "e2e58dd9",
   "metadata": {},
   "outputs": [
    {
     "data": {
      "text/plain": [
       "count     5.000000\n",
       "mean     70.244000\n",
       "std      21.419656\n",
       "min      45.000000\n",
       "25%      56.100000\n",
       "50%      67.120000\n",
       "75%      85.000000\n",
       "max      98.000000\n",
       "Name: marks, dtype: float64"
      ]
     },
     "execution_count": 17,
     "metadata": {},
     "output_type": "execute_result"
    }
   ],
   "source": [
    "student_df['marks'].describe()"
   ]
  },
  {
   "cell_type": "code",
   "execution_count": 18,
   "id": "4ee85c5e",
   "metadata": {},
   "outputs": [
    {
     "name": "stdout",
     "output_type": "stream",
     "text": [
      "<class 'pandas.core.frame.DataFrame'>\n",
      "name       object\n",
      "marks     float64\n",
      "rollno      int64\n",
      "dtype: object\n"
     ]
    }
   ],
   "source": [
    "#dtype\n",
    "\n",
    "print(type(student_df))\n",
    "print(student_df.dtypes)"
   ]
  },
  {
   "cell_type": "code",
   "execution_count": 19,
   "id": "4a7d76b1",
   "metadata": {},
   "outputs": [
    {
     "name": "stdout",
     "output_type": "stream",
     "text": [
      "Index(['name', 'marks', 'rollno'], dtype='object')\n"
     ]
    }
   ],
   "source": [
    "#columns, index\n",
    "#() vako vaneko function ho ani navako vaneko properties ho\n",
    "print(student_df.columns)"
   ]
  },
  {
   "cell_type": "code",
   "execution_count": 20,
   "id": "0128de9d",
   "metadata": {},
   "outputs": [
    {
     "data": {
      "text/html": [
       "<div>\n",
       "<style scoped>\n",
       "    .dataframe tbody tr th:only-of-type {\n",
       "        vertical-align: middle;\n",
       "    }\n",
       "\n",
       "    .dataframe tbody tr th {\n",
       "        vertical-align: top;\n",
       "    }\n",
       "\n",
       "    .dataframe thead th {\n",
       "        text-align: right;\n",
       "    }\n",
       "</style>\n",
       "<table border=\"1\" class=\"dataframe\">\n",
       "  <thead>\n",
       "    <tr style=\"text-align: right;\">\n",
       "      <th></th>\n",
       "      <th>name</th>\n",
       "      <th>marks</th>\n",
       "      <th>rollno</th>\n",
       "    </tr>\n",
       "  </thead>\n",
       "  <tbody>\n",
       "    <tr>\n",
       "      <th>0</th>\n",
       "      <td>Ram</td>\n",
       "      <td>56.10</td>\n",
       "      <td>1</td>\n",
       "    </tr>\n",
       "    <tr>\n",
       "      <th>1</th>\n",
       "      <td>Shyam</td>\n",
       "      <td>67.12</td>\n",
       "      <td>3</td>\n",
       "    </tr>\n",
       "    <tr>\n",
       "      <th>2</th>\n",
       "      <td>Sita</td>\n",
       "      <td>98.00</td>\n",
       "      <td>2</td>\n",
       "    </tr>\n",
       "    <tr>\n",
       "      <th>3</th>\n",
       "      <td>Gita</td>\n",
       "      <td>45.00</td>\n",
       "      <td>5</td>\n",
       "    </tr>\n",
       "    <tr>\n",
       "      <th>4</th>\n",
       "      <td>Hari</td>\n",
       "      <td>85.00</td>\n",
       "      <td>7</td>\n",
       "    </tr>\n",
       "  </tbody>\n",
       "</table>\n",
       "</div>"
      ],
      "text/plain": [
       "    name  marks  rollno\n",
       "0    Ram  56.10       1\n",
       "1  Shyam  67.12       3\n",
       "2   Sita  98.00       2\n",
       "3   Gita  45.00       5\n",
       "4   Hari  85.00       7"
      ]
     },
     "execution_count": 20,
     "metadata": {},
     "output_type": "execute_result"
    }
   ],
   "source": [
    "student_df.head()"
   ]
  },
  {
   "cell_type": "code",
   "execution_count": 21,
   "id": "6ab91a07",
   "metadata": {},
   "outputs": [
    {
     "data": {
      "text/html": [
       "<div>\n",
       "<style scoped>\n",
       "    .dataframe tbody tr th:only-of-type {\n",
       "        vertical-align: middle;\n",
       "    }\n",
       "\n",
       "    .dataframe tbody tr th {\n",
       "        vertical-align: top;\n",
       "    }\n",
       "\n",
       "    .dataframe thead th {\n",
       "        text-align: right;\n",
       "    }\n",
       "</style>\n",
       "<table border=\"1\" class=\"dataframe\">\n",
       "  <thead>\n",
       "    <tr style=\"text-align: right;\">\n",
       "      <th></th>\n",
       "      <th>name</th>\n",
       "      <th>marks</th>\n",
       "      <th>rollno</th>\n",
       "    </tr>\n",
       "  </thead>\n",
       "  <tbody>\n",
       "    <tr>\n",
       "      <th>0</th>\n",
       "      <td>Ram</td>\n",
       "      <td>56.10</td>\n",
       "      <td>1</td>\n",
       "    </tr>\n",
       "    <tr>\n",
       "      <th>1</th>\n",
       "      <td>Shyam</td>\n",
       "      <td>67.12</td>\n",
       "      <td>3</td>\n",
       "    </tr>\n",
       "    <tr>\n",
       "      <th>2</th>\n",
       "      <td>Sita</td>\n",
       "      <td>98.00</td>\n",
       "      <td>2</td>\n",
       "    </tr>\n",
       "    <tr>\n",
       "      <th>3</th>\n",
       "      <td>Gita</td>\n",
       "      <td>45.00</td>\n",
       "      <td>5</td>\n",
       "    </tr>\n",
       "    <tr>\n",
       "      <th>4</th>\n",
       "      <td>Hari</td>\n",
       "      <td>85.00</td>\n",
       "      <td>7</td>\n",
       "    </tr>\n",
       "  </tbody>\n",
       "</table>\n",
       "</div>"
      ],
      "text/plain": [
       "    name  marks  rollno\n",
       "0    Ram  56.10       1\n",
       "1  Shyam  67.12       3\n",
       "2   Sita  98.00       2\n",
       "3   Gita  45.00       5\n",
       "4   Hari  85.00       7"
      ]
     },
     "execution_count": 21,
     "metadata": {},
     "output_type": "execute_result"
    }
   ],
   "source": [
    "student_df.tail()"
   ]
  },
  {
   "cell_type": "code",
   "execution_count": 22,
   "id": "0d908cda",
   "metadata": {},
   "outputs": [
    {
     "data": {
      "text/html": [
       "<div>\n",
       "<style scoped>\n",
       "    .dataframe tbody tr th:only-of-type {\n",
       "        vertical-align: middle;\n",
       "    }\n",
       "\n",
       "    .dataframe tbody tr th {\n",
       "        vertical-align: top;\n",
       "    }\n",
       "\n",
       "    .dataframe thead th {\n",
       "        text-align: right;\n",
       "    }\n",
       "</style>\n",
       "<table border=\"1\" class=\"dataframe\">\n",
       "  <thead>\n",
       "    <tr style=\"text-align: right;\">\n",
       "      <th></th>\n",
       "      <th>name</th>\n",
       "      <th>marks</th>\n",
       "      <th>rollno</th>\n",
       "    </tr>\n",
       "  </thead>\n",
       "  <tbody>\n",
       "    <tr>\n",
       "      <th>0</th>\n",
       "      <td>Ram</td>\n",
       "      <td>56.10</td>\n",
       "      <td>1</td>\n",
       "    </tr>\n",
       "    <tr>\n",
       "      <th>1</th>\n",
       "      <td>Shyam</td>\n",
       "      <td>67.12</td>\n",
       "      <td>3</td>\n",
       "    </tr>\n",
       "  </tbody>\n",
       "</table>\n",
       "</div>"
      ],
      "text/plain": [
       "    name  marks  rollno\n",
       "0    Ram  56.10       1\n",
       "1  Shyam  67.12       3"
      ]
     },
     "execution_count": 22,
     "metadata": {},
     "output_type": "execute_result"
    }
   ],
   "source": [
    "student_df.head(2)\n"
   ]
  },
  {
   "cell_type": "code",
   "execution_count": 23,
   "id": "4d6e5f86",
   "metadata": {},
   "outputs": [
    {
     "data": {
      "text/html": [
       "<div>\n",
       "<style scoped>\n",
       "    .dataframe tbody tr th:only-of-type {\n",
       "        vertical-align: middle;\n",
       "    }\n",
       "\n",
       "    .dataframe tbody tr th {\n",
       "        vertical-align: top;\n",
       "    }\n",
       "\n",
       "    .dataframe thead th {\n",
       "        text-align: right;\n",
       "    }\n",
       "</style>\n",
       "<table border=\"1\" class=\"dataframe\">\n",
       "  <thead>\n",
       "    <tr style=\"text-align: right;\">\n",
       "      <th></th>\n",
       "      <th>name</th>\n",
       "      <th>marks</th>\n",
       "      <th>rollno</th>\n",
       "    </tr>\n",
       "  </thead>\n",
       "  <tbody>\n",
       "    <tr>\n",
       "      <th>2</th>\n",
       "      <td>Sita</td>\n",
       "      <td>98.0</td>\n",
       "      <td>2</td>\n",
       "    </tr>\n",
       "    <tr>\n",
       "      <th>3</th>\n",
       "      <td>Gita</td>\n",
       "      <td>45.0</td>\n",
       "      <td>5</td>\n",
       "    </tr>\n",
       "    <tr>\n",
       "      <th>4</th>\n",
       "      <td>Hari</td>\n",
       "      <td>85.0</td>\n",
       "      <td>7</td>\n",
       "    </tr>\n",
       "  </tbody>\n",
       "</table>\n",
       "</div>"
      ],
      "text/plain": [
       "   name  marks  rollno\n",
       "2  Sita   98.0       2\n",
       "3  Gita   45.0       5\n",
       "4  Hari   85.0       7"
      ]
     },
     "execution_count": 23,
     "metadata": {},
     "output_type": "execute_result"
    }
   ],
   "source": [
    "student_df.tail(3)"
   ]
  },
  {
   "cell_type": "code",
   "execution_count": 24,
   "id": "4300c20a",
   "metadata": {},
   "outputs": [
    {
     "name": "stdout",
     "output_type": "stream",
     "text": [
      "<class 'numpy.ndarray'>\n",
      "[['Ram' 56.1 1]\n",
      " ['Shyam' 67.12 3]\n",
      " ['Sita' 98.0 2]\n",
      " ['Gita' 45.0 5]\n",
      " ['Hari' 85.0 7]]\n"
     ]
    }
   ],
   "source": [
    "#values in numpy array\n",
    "import numpy as np\n",
    "student_np = student_df.values\n",
    "print(type(student_np))\n",
    "print(student_np)"
   ]
  },
  {
   "cell_type": "code",
   "execution_count": 25,
   "id": "ee68724c",
   "metadata": {},
   "outputs": [
    {
     "name": "stdout",
     "output_type": "stream",
     "text": [
      "           0      1     2     3     4\n",
      "name     Ram  Shyam  Sita  Gita  Hari\n",
      "marks   56.1  67.12  98.0  45.0  85.0\n",
      "rollno     1      3     2     5     7\n"
     ]
    }
   ],
   "source": [
    "#transpose (which means rows lai column and viceversa)\n",
    "print(student_df.T)"
   ]
  },
  {
   "cell_type": "code",
   "execution_count": 26,
   "id": "54b64f1f",
   "metadata": {},
   "outputs": [
    {
     "name": "stdout",
     "output_type": "stream",
     "text": [
      "    name  marks  rollno\n",
      "2   Sita  98.00       2\n",
      "4   Hari  85.00       7\n",
      "1  Shyam  67.12       3\n",
      "0    Ram  56.10       1\n",
      "3   Gita  45.00       5\n"
     ]
    }
   ],
   "source": [
    "#sorting dataframe and inplace=True garyo vane chai present dataframe save hunxa\n",
    "student_df.sort_values(by=\"marks\",ascending=False, inplace=True)\n",
    "print(student_df)"
   ]
  },
  {
   "cell_type": "code",
   "execution_count": 27,
   "id": "f9e0baa4",
   "metadata": {},
   "outputs": [
    {
     "data": {
      "text/html": [
       "<div>\n",
       "<style scoped>\n",
       "    .dataframe tbody tr th:only-of-type {\n",
       "        vertical-align: middle;\n",
       "    }\n",
       "\n",
       "    .dataframe tbody tr th {\n",
       "        vertical-align: top;\n",
       "    }\n",
       "\n",
       "    .dataframe thead th {\n",
       "        text-align: right;\n",
       "    }\n",
       "</style>\n",
       "<table border=\"1\" class=\"dataframe\">\n",
       "  <thead>\n",
       "    <tr style=\"text-align: right;\">\n",
       "      <th></th>\n",
       "      <th>name</th>\n",
       "      <th>marks</th>\n",
       "    </tr>\n",
       "  </thead>\n",
       "  <tbody>\n",
       "    <tr>\n",
       "      <th>1</th>\n",
       "      <td>Shyam</td>\n",
       "      <td>67.12</td>\n",
       "    </tr>\n",
       "    <tr>\n",
       "      <th>0</th>\n",
       "      <td>Ram</td>\n",
       "      <td>56.10</td>\n",
       "    </tr>\n",
       "  </tbody>\n",
       "</table>\n",
       "</div>"
      ],
      "text/plain": [
       "    name  marks\n",
       "1  Shyam  67.12\n",
       "0    Ram  56.10"
      ]
     },
     "execution_count": 27,
     "metadata": {},
     "output_type": "execute_result"
    }
   ],
   "source": [
    "#slicing dataframe usinf iloc / iloc use garyo vane index default hunxa\n",
    "student_df.iloc[2:4, 0:-1]\n",
    "\n",
    "#[column , rows]\n"
   ]
  },
  {
   "cell_type": "code",
   "execution_count": 28,
   "id": "fd7aa711",
   "metadata": {},
   "outputs": [
    {
     "data": {
      "text/html": [
       "<div>\n",
       "<style scoped>\n",
       "    .dataframe tbody tr th:only-of-type {\n",
       "        vertical-align: middle;\n",
       "    }\n",
       "\n",
       "    .dataframe tbody tr th {\n",
       "        vertical-align: top;\n",
       "    }\n",
       "\n",
       "    .dataframe thead th {\n",
       "        text-align: right;\n",
       "    }\n",
       "</style>\n",
       "<table border=\"1\" class=\"dataframe\">\n",
       "  <thead>\n",
       "    <tr style=\"text-align: right;\">\n",
       "      <th></th>\n",
       "      <th>name</th>\n",
       "      <th>marks</th>\n",
       "      <th>rollno</th>\n",
       "    </tr>\n",
       "  </thead>\n",
       "  <tbody>\n",
       "    <tr>\n",
       "      <th>2</th>\n",
       "      <td>Sita</td>\n",
       "      <td>98.00</td>\n",
       "      <td>2</td>\n",
       "    </tr>\n",
       "    <tr>\n",
       "      <th>4</th>\n",
       "      <td>Hari</td>\n",
       "      <td>NaN</td>\n",
       "      <td>7</td>\n",
       "    </tr>\n",
       "    <tr>\n",
       "      <th>1</th>\n",
       "      <td>Shyam</td>\n",
       "      <td>67.12</td>\n",
       "      <td>3</td>\n",
       "    </tr>\n",
       "    <tr>\n",
       "      <th>0</th>\n",
       "      <td>Ram</td>\n",
       "      <td>56.10</td>\n",
       "      <td>1</td>\n",
       "    </tr>\n",
       "    <tr>\n",
       "      <th>3</th>\n",
       "      <td>Gita</td>\n",
       "      <td>45.00</td>\n",
       "      <td>5</td>\n",
       "    </tr>\n",
       "  </tbody>\n",
       "</table>\n",
       "</div>"
      ],
      "text/plain": [
       "    name  marks  rollno\n",
       "2   Sita  98.00       2\n",
       "4   Hari    NaN       7\n",
       "1  Shyam  67.12       3\n",
       "0    Ram  56.10       1\n",
       "3   Gita  45.00       5"
      ]
     },
     "execution_count": 28,
     "metadata": {},
     "output_type": "execute_result"
    }
   ],
   "source": [
    "#finding null values\n",
    "\n",
    "#yo chai etkai khali gareko\n",
    "\n",
    "student_df.iloc[1, 1] = None\n",
    "student_df"
   ]
  },
  {
   "cell_type": "code",
   "execution_count": 29,
   "id": "c4c11301",
   "metadata": {},
   "outputs": [
    {
     "data": {
      "text/html": [
       "<div>\n",
       "<style scoped>\n",
       "    .dataframe tbody tr th:only-of-type {\n",
       "        vertical-align: middle;\n",
       "    }\n",
       "\n",
       "    .dataframe tbody tr th {\n",
       "        vertical-align: top;\n",
       "    }\n",
       "\n",
       "    .dataframe thead th {\n",
       "        text-align: right;\n",
       "    }\n",
       "</style>\n",
       "<table border=\"1\" class=\"dataframe\">\n",
       "  <thead>\n",
       "    <tr style=\"text-align: right;\">\n",
       "      <th></th>\n",
       "      <th>name</th>\n",
       "      <th>marks</th>\n",
       "      <th>rollno</th>\n",
       "    </tr>\n",
       "  </thead>\n",
       "  <tbody>\n",
       "    <tr>\n",
       "      <th>2</th>\n",
       "      <td>False</td>\n",
       "      <td>False</td>\n",
       "      <td>False</td>\n",
       "    </tr>\n",
       "    <tr>\n",
       "      <th>4</th>\n",
       "      <td>False</td>\n",
       "      <td>True</td>\n",
       "      <td>False</td>\n",
       "    </tr>\n",
       "    <tr>\n",
       "      <th>1</th>\n",
       "      <td>False</td>\n",
       "      <td>False</td>\n",
       "      <td>False</td>\n",
       "    </tr>\n",
       "    <tr>\n",
       "      <th>0</th>\n",
       "      <td>False</td>\n",
       "      <td>False</td>\n",
       "      <td>False</td>\n",
       "    </tr>\n",
       "    <tr>\n",
       "      <th>3</th>\n",
       "      <td>False</td>\n",
       "      <td>False</td>\n",
       "      <td>False</td>\n",
       "    </tr>\n",
       "  </tbody>\n",
       "</table>\n",
       "</div>"
      ],
      "text/plain": [
       "    name  marks  rollno\n",
       "2  False  False   False\n",
       "4  False   True   False\n",
       "1  False  False   False\n",
       "0  False  False   False\n",
       "3  False  False   False"
      ]
     },
     "execution_count": 29,
     "metadata": {},
     "output_type": "execute_result"
    }
   ],
   "source": [
    "student_df.isnull()"
   ]
  },
  {
   "cell_type": "code",
   "execution_count": 30,
   "id": "31b4bce7",
   "metadata": {},
   "outputs": [
    {
     "data": {
      "text/plain": [
       "name      0\n",
       "marks     1\n",
       "rollno    0\n",
       "dtype: int64"
      ]
     },
     "execution_count": 30,
     "metadata": {},
     "output_type": "execute_result"
    }
   ],
   "source": [
    "student_df.isnull().sum()"
   ]
  },
  {
   "cell_type": "code",
   "execution_count": 31,
   "id": "b4305f27",
   "metadata": {},
   "outputs": [
    {
     "data": {
      "text/plain": [
       "1"
      ]
     },
     "execution_count": 31,
     "metadata": {},
     "output_type": "execute_result"
    }
   ],
   "source": [
    "student_df.isnull().sum().sum()"
   ]
  },
  {
   "cell_type": "code",
   "execution_count": 32,
   "id": "c5b4269c",
   "metadata": {},
   "outputs": [
    {
     "data": {
      "text/html": [
       "<div>\n",
       "<style scoped>\n",
       "    .dataframe tbody tr th:only-of-type {\n",
       "        vertical-align: middle;\n",
       "    }\n",
       "\n",
       "    .dataframe tbody tr th {\n",
       "        vertical-align: top;\n",
       "    }\n",
       "\n",
       "    .dataframe thead th {\n",
       "        text-align: right;\n",
       "    }\n",
       "</style>\n",
       "<table border=\"1\" class=\"dataframe\">\n",
       "  <thead>\n",
       "    <tr style=\"text-align: right;\">\n",
       "      <th></th>\n",
       "      <th>marks</th>\n",
       "      <th>rollno</th>\n",
       "    </tr>\n",
       "  </thead>\n",
       "  <tbody>\n",
       "    <tr>\n",
       "      <th>2</th>\n",
       "      <td>98.00</td>\n",
       "      <td>2</td>\n",
       "    </tr>\n",
       "    <tr>\n",
       "      <th>4</th>\n",
       "      <td>NaN</td>\n",
       "      <td>7</td>\n",
       "    </tr>\n",
       "    <tr>\n",
       "      <th>1</th>\n",
       "      <td>67.12</td>\n",
       "      <td>3</td>\n",
       "    </tr>\n",
       "    <tr>\n",
       "      <th>0</th>\n",
       "      <td>56.10</td>\n",
       "      <td>1</td>\n",
       "    </tr>\n",
       "    <tr>\n",
       "      <th>3</th>\n",
       "      <td>45.00</td>\n",
       "      <td>5</td>\n",
       "    </tr>\n",
       "  </tbody>\n",
       "</table>\n",
       "</div>"
      ],
      "text/plain": [
       "   marks  rollno\n",
       "2  98.00       2\n",
       "4    NaN       7\n",
       "1  67.12       3\n",
       "0  56.10       1\n",
       "3  45.00       5"
      ]
     },
     "execution_count": 32,
     "metadata": {},
     "output_type": "execute_result"
    }
   ],
   "source": [
    "#[[]] = subset leyo vane yauta value vanda badi mark garna milxa\n",
    "\n",
    "numeric_df = student_df[['marks', 'rollno']]\n",
    "numeric_df\n"
   ]
  },
  {
   "cell_type": "code",
   "execution_count": 33,
   "id": "a2784a8a",
   "metadata": {},
   "outputs": [
    {
     "name": "stdout",
     "output_type": "stream",
     "text": [
      "66.555\n",
      "61.61\n",
      "45.0\n",
      "45.0\n",
      "98.0\n",
      "266.22\n",
      "53.325\n",
      "61.61\n",
      "74.84\n"
     ]
    }
   ],
   "source": [
    "#summary statistics\n",
    "\n",
    "print(numeric_df['marks'].mean())\n",
    "print(numeric_df['marks'].median())\n",
    "print(numeric_df['marks'].mode()[0])\n",
    "print(numeric_df['marks'].min())\n",
    "print(numeric_df['marks'].max())\n",
    "print(numeric_df['marks'].sum())\n",
    "print(numeric_df['marks'].quantile(.25))\n",
    "print(numeric_df['marks'].quantile(.50))\n",
    "print(numeric_df['marks'].quantile(.75))"
   ]
  }
 ],
 "metadata": {
  "kernelspec": {
   "display_name": "Python 3 (ipykernel)",
   "language": "python",
   "name": "python3"
  },
  "language_info": {
   "codemirror_mode": {
    "name": "ipython",
    "version": 3
   },
   "file_extension": ".py",
   "mimetype": "text/x-python",
   "name": "python",
   "nbconvert_exporter": "python",
   "pygments_lexer": "ipython3",
   "version": "3.11.5"
  }
 },
 "nbformat": 4,
 "nbformat_minor": 5
}
